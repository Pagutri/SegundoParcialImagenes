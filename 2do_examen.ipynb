{
 "cells": [
  {
   "cell_type": "markdown",
   "metadata": {},
   "source": [
    "# Fundamentos de procesamiento digital de imágenes\n",
    "\n",
    "### Prof. Arturo González Vega\n",
    "### Alumna: Salma Patricia Gutiérrez Rivera\n",
    "\n",
    "## Segundo examen parcial"
   ]
  },
  {
   "cell_type": "markdown",
   "metadata": {},
   "source": [
    "__1. Haga una función llamada ImPotencia que, dada una imagen, calcule su potencia promedio. Para realizar el cálculo utilice el teorema de Parseval que dice lo siguiente:__"
   ]
  },
  {
   "cell_type": "markdown",
   "metadata": {},
   "source": [
    "$$\n",
    "P_f = \\frac{1}{MN}\\sum_u\\sum_v|F(u,v)|^2\n",
    "$$"
   ]
  },
  {
   "cell_type": "code",
   "execution_count": 8,
   "metadata": {},
   "outputs": [],
   "source": [
    "import numpy as np\n",
    "import cv2\n",
    "from matplotlib import pyplot as plt\n",
    "from math import exp"
   ]
  },
  {
   "cell_type": "code",
   "execution_count": 2,
   "metadata": {},
   "outputs": [],
   "source": [
    "def magnitud_dft(imagen):\n",
    "    \"\"\"Esta función solo sirve con imágenes BGR,\n",
    "    aunque sean a escala de grises. Usa cv2.imread(imagen, 0)\"\"\"\n",
    "    dft = cv2.dft(np.float32(imagen), flags = cv2.DFT_COMPLEX_OUTPUT) # Transformada de la imagen\n",
    "    dft_shift = np.fft.fftshift(dft) # Centramos la transformada\n",
    "    magnitud = cv2.magnitude(dft_shift[:,:,0], dft_shift[:,:,1]) # Magnitud del espectro\n",
    "    \n",
    "    return magnitud"
   ]
  },
  {
   "cell_type": "code",
   "execution_count": 3,
   "metadata": {},
   "outputs": [],
   "source": [
    "def ImPotencia(espectro_dft):\n",
    "    M, N = imagen.shape\n",
    "    potencia = np.sum(espectro * espectro) / (M * N)\n",
    "    \n",
    "    return potencia"
   ]
  },
  {
   "cell_type": "markdown",
   "metadata": {},
   "source": [
    "__2. Haga una función FiltraGaussiana que, dada una imagen, el tipo de filtro (pasabajos o pasaaltos) y el valor de $\\sigma$, realice un filtrado con una función Gaussiana con la desviación indicada.__"
   ]
  },
  {
   "cell_type": "code",
   "execution_count": 10,
   "metadata": {},
   "outputs": [],
   "source": [
    "def FiltraGaussiana(imagen_dft, sigma, omega = 0):\n",
    "    P, Q = imagen_dft.shape\n",
    "    img_filtrada = np.zeros(P, Q)\n",
    "    \n",
    "    if omega == 0: # Filtro pasabajos\n",
    "        for u in range(P):\n",
    "            for v in range(Q):\n",
    "                D_cuadrada = (u - 0.5 * P)**2 + (v - 0.5 * Q)**2\n",
    "                img_filtrada = exp(- 0.5 * D_cuadrada / sigma**2)\n",
    "    else: # Filtro pasaaltos\n",
    "        for u in range(P):\n",
    "            for v in range(Q):\n",
    "                D_cuadrada = (u - 0.5 * P)**2 + (v - 0.5 * Q)**2\n",
    "                img_filtrada = 1.0 - exp(- (D_cuadrada - sigma**2)**2 / (D_cuadrada * omega**2))\n",
    "                \n",
    "    return img_filtrada"
   ]
  },
  {
   "cell_type": "code",
   "execution_count": null,
   "metadata": {},
   "outputs": [],
   "source": [
    "img = cv2.imread('FigP0401(test_pattern).tif', 0)\n",
    "\n",
    "dft = cv2.dft(np.float32(img), flags = cv2.DFT_COMPLEX_OUTPUT)\n",
    "dft_shift = np.fft.fftshift(dft)\n",
    "\n",
    "magnitude_spectrum = 20 * np.log(cv2.magnitude(dft_shift[:,:,0], dft_shift[:,:,1]))\n",
    "\n",
    "plt.subplot(121), plt.imshow(img, cmap = 'gray')\n",
    "plt.title('Input Image'), plt.xticks([]), plt.yticks([])\n",
    "plt.subplot(122),plt.imshow(magnitude_spectrum, cmap = 'gray')\n",
    "plt.title('Magnitude Spectrum'), plt.xticks([]), plt.yticks([])\n",
    "plt.show()"
   ]
  }
 ],
 "metadata": {
  "kernelspec": {
   "display_name": "Python 3",
   "language": "python",
   "name": "python3"
  },
  "language_info": {
   "codemirror_mode": {
    "name": "ipython",
    "version": 3
   },
   "file_extension": ".py",
   "mimetype": "text/x-python",
   "name": "python",
   "nbconvert_exporter": "python",
   "pygments_lexer": "ipython3",
   "version": "3.7.3"
  }
 },
 "nbformat": 4,
 "nbformat_minor": 2
}
